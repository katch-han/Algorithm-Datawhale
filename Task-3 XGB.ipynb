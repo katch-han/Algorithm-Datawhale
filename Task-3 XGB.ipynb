{
 "cells": [
  {
   "cell_type": "code",
   "execution_count": null,
   "metadata": {},
   "outputs": [],
   "source": [
    "XGB算法梳理"
   ]
  },
  {
   "cell_type": "raw",
   "metadata": {},
   "source": [
    "算法原理\n",
    "    在原有Gradient Boosting算法基础上加以改进，在函数空间中用牛顿法进行优化，对代价函数进行了二阶泰勒展开，\n",
    "    目标函数多了正则项，正则项对每棵回归树的复杂度进行了惩罚，使得学习出来的模型更加不容易过拟合，\n",
    "    从而极⼤地提升了模型训练速度和预测精度。\n",
    "    \n",
    "    \n",
    "节点分裂方法(Split Finding)\n",
    "    • 精确算法 \n",
    "      遍历所有特征的所有可能的分割点，计算gain值，选取值最大的(feature，value)去分割\n",
    "    • 近似算法\n",
    "      对于每个特征，只考察分位点，减少计算复杂度，\n",
    "      XGB不是简单地按照样本个数进行分位，而是以二阶导数值作为权重(Weighted Quantile Sketch)\n",
    "      \n",
    "优缺点：\n",
    "    计算速度快\n",
    "        Parallelization：  训练时可以用所有的 CPU 内核来并行化建树。\n",
    "        Distributed Computing ：  用分布式计算来训练非常大的模型。\n",
    "        Out-of-Core Computing：  对于非常大的数据集还可以进行 Out-of-Core Computing。\n",
    "        Cache Optimization of data structures and algorithms：  更好地利用硬件。\n",
    "        \n",
    "缺失值处理 \n",
    "    当特征出现缺失值时，XGBoost 可以学习出默认的节点分裂方向\n",
    "    \n",
    "其它特性：\n",
    "    • 行抽样(row sample)\n",
    "    • 列抽样(column sample) 借鉴随机森林\n",
    "    • Shrinkage(缩减)，即学习速率 将学习速率调小，迭代次数增多，有正则化作用\n",
    "    • 支持自定义损失函数(需二阶可导)\n",
    "    \n",
    "应用场景\n",
    "    回归、分类和排序\n",
    "\n",
    "参数\n",
    "  XGBRegressor(max_depth=3, learning_rate=0.1, n_estimators=100, verbosity=1, silent=None, objective='reg:linear', booster='gbtree', n_jobs=1, nthread=None, gamma=0, min_child_weight=1, max_delta_step=0, subsample=1, colsample_bytree=1, colsample_bylevel=1, colsample_bynode=1, reg_alpha=0, reg_lambda=1, scale_pos_weight=1, base_score=0.5, random_state=0, seed=None, missing=None, importance_type='gain', **kwargs)\n",
    "  max_depth:树的最大深度\n",
    "  learning_rate: 学习率\n",
    "  n_estimators: 树的数目\n",
    "  subsample: 训练集的下采样率\n",
    "  \n",
    "\n",
    "\n"
   ]
  }
 ],
 "metadata": {
  "kernelspec": {
   "display_name": "Python 3",
   "language": "python",
   "name": "python3"
  },
  "language_info": {
   "codemirror_mode": {
    "name": "ipython",
    "version": 3
   },
   "file_extension": ".py",
   "mimetype": "text/x-python",
   "name": "python",
   "nbconvert_exporter": "python",
   "pygments_lexer": "ipython3",
   "version": "3.7.3"
  }
 },
 "nbformat": 4,
 "nbformat_minor": 2
}
