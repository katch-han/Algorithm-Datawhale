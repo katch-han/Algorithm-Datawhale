{
 "cells": [
  {
   "cell_type": "code",
   "execution_count": null,
   "metadata": {},
   "outputs": [],
   "source": [
    "LightGBM算法梳理\n"
   ]
  },
  {
   "cell_type": "raw",
   "metadata": {},
   "source": [
    "LightGBM  light gredient boosting machine\n",
    "基于GBDT算法框架\n",
    "    采用了直方图的算法，具有以下优点：\n",
    "        • 减小内存占用，比如离散为256个bin时，只需要8bit，节省7/8，而xgboost需要保存所有数据的特征值，还要保存特征排序后的结果\n",
    "        • 减小了splitfinding时计算增益的计算量，相比XGBOOST的pre-sorting预排序方法 从O(#data)降到了O(#bins)\n",
    "    带深度限制的 Leaf-wise 的叶子生长策略\n",
    "        大多数 GBDT 使用的按层生长 (level-wise) 的决策树生长策略，Level-wise 过一次数据可以同时分裂同一层的叶子，容易进行多线程优化，也好控制模型复杂度，不容易过拟合。但实际上 Level-wise 是一种低效的算法，因为它不加区分的对待同一层的叶子，带来了很多没必要的开销，因为实际上很多叶子的分裂增益较低，没必要进行搜索和分裂。 \n",
    "\n",
    "        LightGBM采用带深度限制的 Leaf-wise 的叶子生长策略，它是一种更为高效的策略，每次从当前所有叶子中，找到分裂增益最大的一个叶子，然后分裂，如此循环。因此同 Level-wise 相比，在分裂次数相同的情况下，Leaf-wise 可以降低更多的误差，得到更好的精度。Leaf-wise 的缺点是可能会长出比较深的决策树，产生过拟合。因此 LightGBM 在 Leaf-wise 之上增加了一个最大深度的限制，在保证高效率的同时防止过拟合。 \n",
    "\n",
    "    直方图差加速\n",
    "        一个叶子的直方图可以由它的父亲节点的直方图与它兄弟的直方图做差得到。通常构造直方图，需要遍历该叶子上的所有数据，但直方图做差仅需遍历直方图的k个桶。利用这个方法，LightGBM 可以在构造一个叶子的直方图后，可以用非常微小的代价得到它兄弟叶子的直方图，在速度上可以提升一倍。 \n",
    "\n",
    "     cache 访问优化\n",
    "     多线程优化\n",
    "     基于直方图的稀疏特征优化\n",
    "     直接支持类别特征(Categorical Feature)\n",
    "大多数机器学习工具都无法直接支持类别特征，一般需要把类别特征，转化one-hotting特征，降低了空间和时间的效率。而类别特征的使用是在实践中很常用的。基于这个考虑，LightGBM优化了对类别特征的支持，可以直接输入类别特征，不需要额外的0/1展开。并在决策树算法上增加了类别特征的决策规则。\n",
    "\n",
    "     特征并行\n",
    "         不同机器在不同的特征集合上分别寻找最优的分割点，然后在机器间同步最优的分割点\n",
    "\n",
    "数据并行\n",
    "让不同的机器先在本地构造直方图，然后进行全局的合并，最后在合并的直方图上面寻找最优分割点         \n",
    "\n",
    "         基于投票的数据并行则进一步优化数据并行中的通信代价，使通信代价变成常数级别。在数据量很大的时候，使用投票并行可以得到非常好的加速效果\n",
    "\n",
    "\n",
    "\n",
    "lightGBM调参\n",
    "\n",
    "（1）num_leaves \n",
    "LightGBM使用的是leaf-wise的算法，因此在调节树的复杂程度时，使用的是num_leaves而不是max_depth。 \n",
    "大致换算关系：num_leaves = 2^(max_depth) \n",
    "（2）样本分布非平衡数据集：可以param[‘is_unbalance’]=’true’ \n",
    "（3）Bagging参数：bagging_fraction+bagging_freq（必须同时设置）、feature_fraction \n",
    "（4）min_data_in_leaf、min_sum_hessian_in_leaf\n",
    "         \n",
    "         "
   ]
  },
  {
   "cell_type": "code",
   "execution_count": 66,
   "metadata": {},
   "outputs": [
    {
     "name": "stdout",
     "output_type": "stream",
     "text": [
      "2.2.4-tf\n"
     ]
    }
   ],
   "source": []
  }
 ],
 "metadata": {
  "kernelspec": {
   "display_name": "Python 3",
   "language": "python",
   "name": "python3"
  },
  "language_info": {
   "codemirror_mode": {
    "name": "ipython",
    "version": 3
   },
   "file_extension": ".py",
   "mimetype": "text/x-python",
   "name": "python",
   "nbconvert_exporter": "python",
   "pygments_lexer": "ipython3",
   "version": "3.7.3"
  }
 },
 "nbformat": 4,
 "nbformat_minor": 2
}
